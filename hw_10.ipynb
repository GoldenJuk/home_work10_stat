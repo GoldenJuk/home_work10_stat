{
 "cells": [
  {
   "cell_type": "markdown",
   "id": "0a87d9e1",
   "metadata": {},
   "source": [
    "***Провести дисперсионный анализ*** для определения того, есть ли различия среднего роста среди взрослых футболистов, хоккеистов и штангистов.\n",
    "Даны значения роста в трех группах случайно выбранных спортсменов:\n",
    "\n",
    "Футболисты: 173, 175, 180, 178, 177, 185, 183, 182.\n",
    "\n",
    "Хоккеисты: 177, 179, 180, 188, 177, 172, 171, 184, 180.\n",
    "\n",
    "Штангисты: 172, 173, 169, 177, 166, 180, 178, 177, 172, 166, 170."
   ]
  },
  {
   "cell_type": "markdown",
   "id": "4be5bae1",
   "metadata": {},
   "source": [
    "***Гипотезы:***\n",
    "\n",
    "H0: нет различия среднего роста среди трех групп\n",
    "\n",
    "H1: как минимум в одной из групп средний рост отличается от остальных"
   ]
  },
  {
   "cell_type": "markdown",
   "id": "b1cd2861",
   "metadata": {},
   "source": [
    "---"
   ]
  },
  {
   "cell_type": "code",
   "execution_count": 16,
   "id": "fc9e7154",
   "metadata": {},
   "outputs": [
    {
     "name": "stdout",
     "output_type": "stream",
     "text": [
      "Критическое значение критерия Фишера при альфа = 0,05 = 3.3404\n",
      "Расчетное значение критерия Фишера при альфа = 0,05 = 5.5855\n"
     ]
    }
   ],
   "source": [
    "import numpy as np\n",
    "import scipy.stats as stats\n",
    "\n",
    "height_soccer_players = np.array([173, 175, 180, 178, 177, 185, 183, 182])\n",
    "height_hockey_players = np.array([177, 179, 180, 188, 177, 172, 171, 184, 180])\n",
    "height_weightlifters = np.array([172, 173, 169, 177, 166, 180, 178, 177, 172, 166, 170])\n",
    "\n",
    "mean_s = np.mean(height_soccer_players)\n",
    "mean_h = np.mean(height_hockey_players)\n",
    "mean_w = np.mean(height_weightlifters)\n",
    "\n",
    "mean_all = (mean_s + mean_h + mean_w) / 3\n",
    "\n",
    "\n",
    "#межгрупповое отклонение\n",
    "ssb_f = ((mean_s - mean_all) ** 2) * len(height_soccer_players)\n",
    "ssb_h = ((mean_h - mean_all) ** 2) * len(height_hockey_players)\n",
    "ssb_w = ((mean_w - mean_all) ** 2) * len(height_weightlifters)\n",
    "total_ssb = ssb_f + ssb_h + ssb_w\n",
    "\n",
    "#внутригрупповое отклонение \n",
    "ssw_f = np.sum((height_soccer_players - mean_s) ** 2)\n",
    "ssw_h = np.sum((height_hockey_players - mean_h) ** 2)\n",
    "ssw_w = np.sum((height_weightlifters - mean_w) ** 2)\n",
    "total_ssw = ssw_f + ssw_h + ssw_w\n",
    "\n",
    "#групп больше двух, используем критерий Фишера\n",
    "#степени свободы\n",
    "k = 3\n",
    "n = (len(height_soccer_players) + len(height_hockey_players) + len(height_weightlifters))\n",
    "ms_w = total_ssw / (n-k)\n",
    "ms_b = total_ssb / (k-1)\n",
    "F = round(ms_b / ms_w,4)\n",
    "\n",
    "alpha = 0.05\n",
    "F_crit = round(stats.f.ppf(1 - alpha, k - 1, n),4)\n",
    "print(f'Критическое значение критерия Фишера при альфа = 0,05 = {F_crit}')\n",
    "print(f'Расчетное значение критерия Фишера при альфа = 0,05 = {F}')"
   ]
  },
  {
   "cell_type": "markdown",
   "id": "3f1e8121",
   "metadata": {},
   "source": [
    "F > Fкрит, поэтому отвергаем нулевую гипотезу. ***Как минимум одна из групп отличается от остальных.***"
   ]
  }
 ],
 "metadata": {
  "kernelspec": {
   "display_name": "Python 3 (ipykernel)",
   "language": "python",
   "name": "python3"
  },
  "language_info": {
   "codemirror_mode": {
    "name": "ipython",
    "version": 3
   },
   "file_extension": ".py",
   "mimetype": "text/x-python",
   "name": "python",
   "nbconvert_exporter": "python",
   "pygments_lexer": "ipython3",
   "version": "3.9.13"
  }
 },
 "nbformat": 4,
 "nbformat_minor": 5
}
